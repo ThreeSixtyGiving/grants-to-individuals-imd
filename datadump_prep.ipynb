{
 "cells": [
  {
   "cell_type": "markdown",
   "metadata": {},
   "source": [
    "# DataDump Prep \n",
    "\n",
    "This is used to create the mapping for ward code, ward population and ward level IMD\n",
    " \n",
    "For each nation in the UK, the relevant statistics authority has created a ranking of multiple deprivation that ranks small census areas (LSOAs in England/Wales, DZs in Scotland and SOA in Northern Ireland). There is no equivalent ranking of areas across the entire UK.\n",
    "\n",
    "These indexes are independent and cannot be directly compared. We are using mysociety's python package mysoc_dataset. For more inforamtion, plase see https://pages.mysociety.org/composite_uk_imd/datasets/uk_index/latest \n",
    "\n",
    "We have chosen “UK_IMD_E.csv” as the majority of data is English. When in a dataset for a particular nation (for instance, uk_index/UK_IMD_E.csv), the rank order of the original deprivation index is preserved, but it is not for other countries.\n"
   ]
  },
  {
   "cell_type": "code",
   "execution_count": 1,
   "metadata": {},
   "outputs": [],
   "source": [
    "import pandas as pd\n",
    "import numpy as np\n",
    "from mysoc_dataset import get_dataset_df"
   ]
  },
  {
   "cell_type": "markdown",
   "metadata": {},
   "source": [
    "## Map Ward Boundaries to LSOA\n",
    "\n",
    "We are going to use the ward boundaries to create the map on our dashboard. Therefore, it is important to make sure that we map the lsoa to the same list as the ward boundaries (https://geoportal.statistics.gov.uk/search?q=BDY_WD%202023&sort=Title%7Ctitle%7Casc).\n",
    "\n",
    "https://geoportal.statistics.gov.uk/datasets/e14b1475ecf74b58804cf667b6740706/about \n",
    "This is used for the ward to LSOA Mapping. Ward and LSOA do not have a 1:1 mapping and the boundaries can change over time. We are better off using ONS mapping than creating our own. \n",
    "\n",
    "When you download the full data collection, there’s a lot of files. What we are after is the extended postcode list under “data”. There are other files with IMD data and other mapping but they are not as extensive (e.g. some of them didn’t have mapping for the highlands).\n",
    "The “ONSPD_FEB_2024_UK.csv” contains the most extensive mapping at all levels. This is a very large file so you are better off using a script to extract the data frame required (see the code below)\n",
    "\n"
   ]
  },
  {
   "cell_type": "code",
   "execution_count": 2,
   "metadata": {},
   "outputs": [],
   "source": [
    "# Load only the lsoa nad ward columns from the ONSPD dataset and drop duplicates\n",
    "lsoa_map_columns = ['osward', 'lsoa11']  # Specify the columns you need\n",
    "lsoa_map_df= pd.read_csv('data/ONSPD_FEB_2024_UK.csv', usecols=lsoa_map_columns)\n",
    "lsoa_map_df = lsoa_map_df.drop_duplicates()\n",
    "\n"
   ]
  },
  {
   "cell_type": "code",
   "execution_count": 3,
   "metadata": {},
   "outputs": [
    {
     "data": {
      "text/html": [
       "<pre style=\"white-space:pre;overflow-x:auto;line-height:normal;font-family:Menlo,'DejaVu Sans Mono',consolas,'Courier New',monospace\">If you find <span style=\"color: #000080; text-decoration-color: #000080\">uk_index</span> helpful, can you tell us how using this survey? \n",
       "<span style=\"color: #0000ff; text-decoration-color: #0000ff; text-decoration: underline\">https://pages.mysociety.org/composite_uk_imd/downloads/uk-index-constituency-imd-csv/latest#survey.</span> This message \n",
       "can be removed by setting the `done_survey` option to <span style=\"color: #00ff00; text-decoration-color: #00ff00; font-style: italic\">True</span>.\n",
       "</pre>\n"
      ],
      "text/plain": [
       "If you find \u001b[34muk_index\u001b[0m helpful, can you tell us how using this survey? \n",
       "\u001b[4;94mhttps://pages.mysociety.org/composite_uk_imd/downloads/uk-index-constituency-imd-csv/latest#survey.\u001b[0m This message \n",
       "can be removed by setting the `done_survey` option to \u001b[3;92mTrue\u001b[0m.\n"
      ]
     },
     "metadata": {},
     "output_type": "display_data"
    }
   ],
   "source": [
    "# Use mysoc_dataset to load the composite_uk_imd dataset\n",
    "imd_df = get_dataset_df(\n",
    "    repo_name=\"composite_uk_imd\",\n",
    "    package_name=\"uk_index\",\n",
    "    version_name=\"latest\",\n",
    "    file_name=\"UK_IMD_E.csv\",\n",
    "    )\n",
    "\n",
    "imd_with_ward_df = imd_df.merge(lsoa_map_df, left_on='lsoa', right_on='lsoa11', how='left')\n",
    "\n",
    "# Clean the data and get the lowest IMD values for each ward\n",
    "lowest_values_imd_with_ward_df = imd_with_ward_df.groupby('osward').agg({\n",
    "    'UK_IMD_E_score': 'min',\n",
    "    'original_decile': 'min',\n",
    "    'E_expanded_decile': 'min',\n",
    "    'UK_IMD_E_rank': 'min',\n",
    "    'UK_IMD_E_pop_decile': 'min',\n",
    "    'UK_IMD_E_pop_quintile': 'min'\n",
    "})\n",
    "\n"
   ]
  },
  {
   "cell_type": "code",
   "execution_count": 4,
   "metadata": {},
   "outputs": [],
   "source": [
    "# Use the ward boundaries dataset and left join with the lsoa_map_df to get the lsoa for each ward\n",
    "ward_boundaries_df = pd.read_csv('data/Wards_December_2023_Boundaries_UK_BGC_-4058071213750345486.csv')\n",
    "ward_boundaries_imd_df = ward_boundaries_df.merge(lowest_values_imd_with_ward_df, left_on='WD23CD', right_on='osward', how='left')\n"
   ]
  },
  {
   "cell_type": "markdown",
   "metadata": {},
   "source": [
    "## Get Population data\n",
    "\n",
    "The ward level population data are not stored in one place. \n",
    "\n",
    "Northern Ireland Ward Level Population Data (2021) - https://www.nisra.gov.uk/publications/census-2021-main-statistics-settlements-and-wards-northern-ireland\n",
    "\n",
    "Scotland Ward Level Population Data (2021) - https://www.nrscotland.gov.uk/statistics-and-data/statistics/statistics-by-theme/population/population-estimates/2011-based-special-area-population-estimates/electoral-ward-population-estimates\n",
    "\n",
    "England and Wales Ward Level Population Data (2022) - https://www.ons.gov.uk/peoplepopulationandcommunity/populationandmigration/populationestimates/datasets/wardlevelmidyearpopulationestimatesexperimental\n",
    "\n"
   ]
  },
  {
   "cell_type": "code",
   "execution_count": 8,
   "metadata": {},
   "outputs": [],
   "source": [
    "# Load the NI population data\n",
    "ni_pop_df = pd.read_excel('data/census-2021-ms-a01.xlsx', sheet_name='Ward', header=5)\n",
    "#load the Scotland population data\n",
    "scot_pop_df = pd.read_excel('data/electoral-wards-21-tabs.xlsx', sheet_name='2021', header=3)\n",
    "scot_pop_df = scot_pop_df.loc[scot_pop_df['Sex'] == 'Persons', scot_pop_df.columns[:4]]\n",
    "#load the England and Wales population data\n",
    "e_and_w_pop_df_columns = ['Ward 2023 Code', 'Ward 2023 Name', 'Total']\n",
    "e_and_w_pop_df = pd.read_excel('data/sapewardstablefinal.xlsx', sheet_name='Mid-2022 Ward 2023', header=3, usecols=e_and_w_pop_df_columns)\n",
    "e_and_w_pop_df\n",
    "\n",
    "ni_pop_df = ni_pop_df[['Geography code', 'Geography', 'All usual residents']].rename(columns={'Geography code': 'code', 'Geography': 'name', 'All usual residents': 'total_Population'})\n",
    "scot_pop_df = scot_pop_df[['Electoral Ward 2022 Code', 'Electoral Ward 2022 Name', 'Total']].rename(columns={'Electoral Ward 2022 Code': 'code', 'Electoral Ward 2022 Name': 'name', 'Total': 'total_Population'})\n",
    "e_and_w_pop_df = e_and_w_pop_df[['Ward 2023 Code', 'Ward 2023 Name', 'Total']].rename(columns={'Ward 2023 Code': 'code', 'Ward 2023 Name': 'name', 'Total': 'total_Population'})\n",
    "\n",
    "#create 1 dataframe with all the population data\n",
    "uk_pop_df = pd.concat([ni_pop_df, scot_pop_df, e_and_w_pop_df])"
   ]
  },
  {
   "cell_type": "markdown",
   "metadata": {},
   "source": [
    "## Create Datadump csv with ward level IMD and Population"
   ]
  },
  {
   "cell_type": "code",
   "execution_count": 10,
   "metadata": {},
   "outputs": [],
   "source": [
    "result_df = ward_boundaries_imd_df.merge(uk_pop_df, left_on='WD23CD', right_on='code', how='left')\n",
    "result_df = result_df[['WD23CD', 'WD23NM', 'WD23NMW', 'UK_IMD_E_score', 'original_decile', 'E_expanded_decile', 'UK_IMD_E_rank', 'UK_IMD_E_pop_decile', 'UK_IMD_E_pop_quintile', 'total_Population']]\n",
    "result_df.to_csv('data/datadump_ward_imd.csv', index=False)"
   ]
  }
 ],
 "metadata": {
  "kernelspec": {
   "display_name": ".threesixty_venv",
   "language": "python",
   "name": "python3"
  },
  "language_info": {
   "codemirror_mode": {
    "name": "ipython",
    "version": 3
   },
   "file_extension": ".py",
   "mimetype": "text/x-python",
   "name": "python",
   "nbconvert_exporter": "python",
   "pygments_lexer": "ipython3",
   "version": "3.11.5"
  }
 },
 "nbformat": 4,
 "nbformat_minor": 2
}
